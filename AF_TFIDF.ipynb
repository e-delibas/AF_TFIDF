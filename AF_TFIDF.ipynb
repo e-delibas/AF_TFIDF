{
 "cells": [
  {
   "cell_type": "code",
   "execution_count": null,
   "id": "3d4293ff-1e62-486b-a7a1-7a6c23f5bd13",
   "metadata": {},
   "outputs": [],
   "source": [
    "import os\n",
    "from Bio import SeqIO\n",
    "import pandas as pd\n",
    "from sklearn.feature_extraction.text import TfidfVectorizer\n",
    "import numpy as np\n",
    "import scipy.cluster.hierarchy as sch\n",
    "import matplotlib.pyplot as plt\n",
    "from ete3 import Tree\n",
    "from scipy.spatial.distance import pdist, squareform\n",
    "from time import time"
   ]
  },
  {
   "cell_type": "code",
   "execution_count": null,
   "id": "baead41c-9311-42de-a900-6deeadaeb046",
   "metadata": {},
   "outputs": [],
   "source": [
    "# Step 1: Reading FASTA Files\n",
    "data_folder = './data/Fish'\n",
    "fasta_files = [f for f in os.listdir(data_folder) if f.endswith('.fasta')]"
   ]
  },
  {
   "cell_type": "code",
   "execution_count": null,
   "id": "2b5354ad-232d-41e1-a8b3-dfeac60ac3f5",
   "metadata": {},
   "outputs": [],
   "source": [
    "# Extracting Accession Numbers and Reading Arrays\n",
    "sequences = []\n",
    "titles = []\n",
    "for file in fasta_files:\n",
    "    filepath = os.path.join(data_folder, file)\n",
    "    for record in SeqIO.parse(filepath, 'fasta'):\n",
    "        sequences.append(str(record.seq))\n",
    "        titles.append(record.id) "
   ]
  },
  {
   "cell_type": "code",
   "execution_count": null,
   "id": "e1dcf542-5e7b-454f-b173-16b8c38e294f",
   "metadata": {},
   "outputs": [],
   "source": [
    "# Step 2: Function to Obtain n-grams\n",
    "def extract_ngrams(sequence, n):\n",
    "    return [sequence[i:i+n] for i in range(len(sequence)-n+1)]"
   ]
  },
  {
   "cell_type": "code",
   "execution_count": null,
   "id": "e21d2535-61ab-4e43-b683-d889232dff02",
   "metadata": {},
   "outputs": [],
   "source": [
    "# Reading Reference Dendrogram\n",
    "with open(os.path.join(data_folder,'reference_newick.txt'), 'r') as file:\n",
    "    reference_newick = file.read().strip()\n",
    "reference_tree = Tree(reference_newick, format=1)"
   ]
  },
  {
   "cell_type": "code",
   "execution_count": null,
   "id": "d7b9b5f4-6fcd-47dd-96aa-9c892227807f",
   "metadata": {},
   "outputs": [],
   "source": [
    "# n-gram sizes and TF-IDF percentiles\n",
    "n_gram_sizes = list(range(3, 21))\n",
    "percentile_ranges = list(range(1, 21)) + list(range(30, 101, 10))"
   ]
  },
  {
   "cell_type": "code",
   "execution_count": null,
   "id": "fc823d3c-24f1-4994-a70b-40df56ccced5",
   "metadata": {},
   "outputs": [],
   "source": [
    "results = []\n",
    "newick_trees = []"
   ]
  },
  {
   "cell_type": "code",
   "execution_count": null,
   "id": "7d6b4368-c605-4746-bbe9-ba8fd0bec247",
   "metadata": {},
   "outputs": [],
   "source": [
    "for n in n_gram_sizes:\n",
    "    for percentile in percentile_ranges:\n",
    "        start_time = time()\n",
    "        \n",
    "        all_ngrams = [extract_ngrams(seq, n) for seq in sequences]\n",
    "        top_ngrams_per_sequence = []\n",
    "\n",
    "        for ngrams in all_ngrams:\n",
    "            ngram_text = ' '.join(ngrams)\n",
    "            vectorizer = TfidfVectorizer()\n",
    "            tfidf_matrix = vectorizer.fit_transform([ngram_text])\n",
    "            tfidf_scores = pd.DataFrame(tfidf_matrix.T.toarray(), index=vectorizer.get_feature_names_out(), columns=['TF-IDF'])\n",
    "            \n",
    "            # Select n-grams by percentile\n",
    "            num_top_ngrams = int(np.ceil(len(tfidf_scores) * (percentile / 100)))\n",
    "            top_ngrams = tfidf_scores.nlargest(num_top_ngrams, 'TF-IDF')\n",
    "            top_ngrams_per_sequence.append(top_ngrams.index.tolist())\n",
    "        \n",
    "        # Creating Similarity Matrix\n",
    "        num_sequences = len(sequences)\n",
    "        similarity_matrix = np.zeros((num_sequences, num_sequences))\n",
    "        \n",
    "        for i in range(num_sequences):\n",
    "            for j in range(num_sequences):\n",
    "                if i != j:\n",
    "                    common_ngrams = len(set(top_ngrams_per_sequence[i]).intersection(set(top_ngrams_per_sequence[j])))\n",
    "                    similarity_matrix[i, j] = common_ngrams\n",
    "        \n",
    "        # Convert similarity matrix to distance matrix\n",
    "        max_similarity = similarity_matrix.max()\n",
    "        if max_similarity == 0:\n",
    "            max_similarity = 1 \n",
    "\n",
    "        distance_matrix = 1 - similarity_matrix\n",
    "        min_val = distance_matrix.min()\n",
    "        max_val = distance_matrix.max()\n",
    "        normalized_distance_matrix = (distance_matrix - min_val) / (max_val - min_val)\n",
    "\n",
    "        # Convert square similarity matrix to condensed distance vector\n",
    "        condensed_distance_matrix = squareform(normalized_distance_matrix, checks=False)\n",
    "        \n",
    "        # Creating Dendrogram\n",
    "        linked = sch.linkage(condensed_distance_matrix, method='average')\n",
    "        labels = titles\n",
    "        \n",
    "       # function to convert scipy linkage matrix to newick format\n",
    "        def linkage_to_newick(linkage, labels):\n",
    "            tree = sch.to_tree(linkage, rd=False)\n",
    "            def build_newick(node, newick, leaf_names):\n",
    "                if node.is_leaf():\n",
    "                    return \"%s%s\" % (leaf_names[node.id], newick)\n",
    "                else:\n",
    "                    if len(newick) > 0:\n",
    "                        newick = \")%s\" % (newick)\n",
    "                    else:\n",
    "                        newick = \");\"\n",
    "                    newick = build_newick(node.get_left(), newick, leaf_names)\n",
    "                    newick = build_newick(node.get_right(), \",%s\" % newick, leaf_names)\n",
    "                    newick = \"(%s\" % newick\n",
    "                    return newick\n",
    "            return build_newick(tree, \"\", labels)\n",
    "\n",
    "        tree_newick = linkage_to_newick(linked, labels)\n",
    "        nwck = [n,\"-\",percentile,\"-\",tree_newick]\n",
    "        newick_trees.append(nwck)\n",
    "        # nRF calculation using ETE3\n",
    "        generated_tree = Tree(tree_newick, format=1)\n",
    "        nrf = reference_tree.compare(generated_tree, unrooted=True)['norm_rf']\n",
    "\n",
    "        # Accuracy calculation\n",
    "        accuracy = (1 - nrf) * 100\n",
    "        \n",
    "        end_time = time()\n",
    "        computation_time = end_time - start_time\n",
    "        \n",
    "        print({\n",
    "            'n-gram Size': n,\n",
    "            'Percentile': percentile,\n",
    "            'Accuracy (%)': accuracy,\n",
    "            'Computation Time (s)': computation_time\n",
    "        })\n",
    "\n",
    "        results.append({\n",
    "            'n-gram Size': n,\n",
    "            'Percentile': percentile,\n",
    "            'Accuracy (%)': accuracy,\n",
    "            'Computation Time (s)': computation_time\n",
    "        })\n",
    "       "
   ]
  },
  {
   "cell_type": "code",
   "execution_count": null,
   "id": "3cffe6f9-beac-4605-966f-eae647644912",
   "metadata": {},
   "outputs": [],
   "source": [
    "df=pd.DataFrame(results)\n",
    "pd.set_option('display.max_rows', None)"
   ]
  },
  {
   "cell_type": "code",
   "execution_count": null,
   "id": "435df71b-5228-4a8d-a989-27d61392e1bf",
   "metadata": {},
   "outputs": [],
   "source": [
    "results_df = pd.DataFrame(results)\n",
    "results_df = results_df.sort_values(by=['Accuracy (%)','n-gram Size','Percentile'], ascending=False)"
   ]
  }
 ],
 "metadata": {
  "kernelspec": {
   "display_name": "Python 3 (ipykernel)",
   "language": "python",
   "name": "python3"
  },
  "language_info": {
   "codemirror_mode": {
    "name": "ipython",
    "version": 3
   },
   "file_extension": ".py",
   "mimetype": "text/x-python",
   "name": "python",
   "nbconvert_exporter": "python",
   "pygments_lexer": "ipython3",
   "version": "3.11.8"
  }
 },
 "nbformat": 4,
 "nbformat_minor": 5
}
